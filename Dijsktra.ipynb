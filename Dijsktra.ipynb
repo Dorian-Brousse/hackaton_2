{
 "cells": [
  {
   "cell_type": "code",
   "execution_count": 53,
   "metadata": {},
   "outputs": [],
   "source": [
    "import scipy.stats as stats\n",
    "import scipy.sparse.linalg\n",
    "import numpy as np\n",
    "from itertools import permutations\n",
    "def bouger_puzzle(puzzle, dir):\n",
    "    assert dir in [\"h\",\"b\",\"g\",\"d\"]\n",
    "    #on va faire qqchose pour trouver les coordonnées du zéro dans le puzzle\n",
    "    i = np.where(puzzle == 0)\n",
    "    if dir == \"h\":\n",
    "        if i[0][0]!=0:\n",
    "            k=puzzle[i[0][0]-1][i[1][0]]\n",
    "            puzzle[i[0][0]-1][i[1][0]]=0\n",
    "            puzzle[i[0][0]][i[1][0]]=k\n",
    "        else:\n",
    "            k=puzzle[2][i[1][0]]\n",
    "            puzzle[2][i[1][0]]=0\n",
    "            puzzle[i[0][0]][i[1][0]]=k \n",
    "    elif dir == \"b\":\n",
    "        if i[0][0]!=2:\n",
    "            k=puzzle[i[0][0]+1][i[1][0]]\n",
    "            puzzle[i[0][0]+1][i[1][0]]=0\n",
    "            puzzle[i[0][0]][i[1][0]]=k\n",
    "        else:\n",
    "            k=puzzle[0][i[1][0]]\n",
    "            puzzle[0][i[1][0]]=0\n",
    "            puzzle[i[0][0]][i[1][0]]=k \n",
    "    elif dir == \"g\":\n",
    "        if i[1][0]!=0:\n",
    "            k=puzzle[i[0][0]][i[1][0]-1]\n",
    "            puzzle[i[0][0]][i[1][0]-1]=0\n",
    "            puzzle[i[0][0]][i[1][0]]=k\n",
    "        else:\n",
    "            k=puzzle[i[0][0]][2]\n",
    "            puzzle[i[0][0]][2]=0\n",
    "            puzzle[i[0][0]][i[1][0]]=k \n",
    "    elif dir == \"d\":\n",
    "        if i[1][0]!=2:\n",
    "            k=puzzle[i[0][0]][i[1][0]+1]\n",
    "            puzzle[i[0][0]][i[1][0]+1]=0\n",
    "            puzzle[i[0][0]][i[1][0]]=k\n",
    "        else:\n",
    "            k=puzzle[i[0][0]][0]\n",
    "            puzzle[i[0][0]][0]=0\n",
    "            puzzle[i[0][0]][i[1][0]]=k \n",
    "    return puzzle"
   ]
  },
  {
   "cell_type": "code",
   "execution_count": 54,
   "metadata": {},
   "outputs": [],
   "source": [
    "def voisin(puzzle):\n",
    "    L=[]\n",
    "    dir = [\"h\", \"b\", \"g\", \"d\"]\n",
    "    for i in dir:\n",
    "        new = np.copy(puzzle)\n",
    "        L.append(bouger_puzzle(new, i))\n",
    "    return L\n",
    "\n"
   ]
  },
  {
   "cell_type": "code",
   "execution_count": 55,
   "metadata": {},
   "outputs": [
    {
     "name": "stdout",
     "output_type": "stream",
     "text": [
      "[[0. 0.]\n",
      " [0. 0.]]\n"
     ]
    }
   ],
   "source": [
    "G=np.zeros((2,2))\n",
    "print(G)"
   ]
  },
  {
   "cell_type": "code",
   "execution_count": 56,
   "metadata": {},
   "outputs": [],
   "source": [
    "def CreerMatrice(ensemble) :\n",
    "    ListeConfigurations = list(permutations(ensemble))\n",
    "    #G = np.zeros((len(ListeConfigurations),len(ListeConfigurations)), dtype='uint8')\n",
    "    G=[]\n",
    "    ListeModifiee = []\n",
    "    for i in ListeConfigurations:\n",
    "        l=[[],[],[]]\n",
    "        for e, j in enumerate(i):\n",
    "            if j>=0 and j<=2:\n",
    "                l[0].append(e)\n",
    "            elif j>=3 and j<=5:\n",
    "                l[1].append(e)\n",
    "            else:\n",
    "                l[2].append(e)\n",
    "        ListeModifiee.append(l)\n",
    "    for i in ListeModifiee :\n",
    "        \n",
    "        M = voisin(i)\n",
    "\n",
    "        for sommet in M :\n",
    "            G.append([np.array(i), sommet, 1])\n",
    "    return G\n",
    "\n",
    "ensemble = [0,1,2,3,4,5,6,7,8]\n",
    "\n",
    "G = CreerMatrice(ensemble)\n"
   ]
  },
  {
   "cell_type": "code",
   "execution_count": 44,
   "metadata": {},
   "outputs": [
    {
     "ename": "NameError",
     "evalue": "name 'CréerMatrice' is not defined",
     "output_type": "error",
     "traceback": [
      "\u001b[1;31m---------------------------------------------------------------------------\u001b[0m",
      "\u001b[1;31mNameError\u001b[0m                                 Traceback (most recent call last)",
      "Cell \u001b[1;32mIn[44], line 21\u001b[0m\n\u001b[0;32m     18\u001b[0m                 G\u001b[38;5;241m.\u001b[39mappend((S, n, distMin \u001b[38;5;241m+\u001b[39m \u001b[38;5;241m1\u001b[39m))\n\u001b[0;32m     19\u001b[0m         \u001b[38;5;28;01mreturn\u001b[39;00m G\n\u001b[1;32m---> 21\u001b[0m dijkstra(\u001b[43mCréerMatrice\u001b[49m(ensemble) , [[\u001b[38;5;241m4\u001b[39m, \u001b[38;5;241m2\u001b[39m , \u001b[38;5;241m1\u001b[39m], [\u001b[38;5;241m0\u001b[39m, \u001b[38;5;241m5\u001b[39m, \u001b[38;5;241m6\u001b[39m], [\u001b[38;5;241m7\u001b[39m, \u001b[38;5;241m8\u001b[39m , \u001b[38;5;241m3\u001b[39m]])\n",
      "\u001b[1;31mNameError\u001b[0m: name 'CréerMatrice' is not defined"
     ]
    }
   ],
   "source": [
    "#départ = tableau de départ (un tableau numpy 3x3) et G = liste qui répertorie les voisins de chaque sommet  \n",
    "\n",
    "def dijkstra(G, départ) :\n",
    "    ListePrioritaire = [(départ, 0, départ)]\n",
    "    while ListePrioritaire != [] :\n",
    "        ListeDistances = [t[1] for t in ListePrioritaire]\n",
    "        i = np.argmin(ListeDistances)\n",
    "        distMin = ListeDistances[i]\n",
    "        S = ListePrioritaire[i][1]\n",
    "        for n in voisin(S) :\n",
    "            if ListePrioritaire[[t[0] for t in ListePrioritaire].index(n)][1] > distMin + 1 :\n",
    "                ListePrioritaire[[t[0] for t in ListePrioritaire].index(n)] = (n, distMin + 1, S)\n",
    "                G[[t[0] for t in G].index(S)][[t[1] for t in G].index(n)][0] = (S, n, distMin + 1)\n",
    "                G[[t[0] for t in G].index(n)][[t[1] for t in G].index(S)][0] = (n, S, distMin + 1)\n",
    "            if n not in [t[0] for t in ListePrioritaire] : \n",
    "                ListePrioritaire.append((n, distMin + 1, S))\n",
    "                G.append((n, S, distMin + 1))\n",
    "                G.append((S, n, distMin + 1))\n",
    "        return G\n",
    "\n",
    "dijkstra(CreerMatrice(ensemble) , [[4, 2 , 1], [0, 5, 6], [7, 8 , 3]])"
   ]
  }
 ],
 "metadata": {
  "kernelspec": {
   "display_name": "base",
   "language": "python",
   "name": "python3"
  },
  "language_info": {
   "codemirror_mode": {
    "name": "ipython",
    "version": 3
   },
   "file_extension": ".py",
   "mimetype": "text/x-python",
   "name": "python",
   "nbconvert_exporter": "python",
   "pygments_lexer": "ipython3",
   "version": "3.11.4"
  }
 },
 "nbformat": 4,
 "nbformat_minor": 2
}
